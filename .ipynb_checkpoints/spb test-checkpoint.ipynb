{
 "cells": [
  {
   "cell_type": "code",
   "execution_count": 1,
   "id": "5ffd69d9",
   "metadata": {},
   "outputs": [],
   "source": [
    "from sympy import * \n",
    "\n",
    "x = Symbol('x', real=True)\n",
    "\n",
    "f = Piecewise(\n",
    "    (3 - x**2, abs(x) < 1),\n",
    "    (exp(-(abs(x)-1)), True)\n",
    ")"
   ]
  },
  {
   "cell_type": "code",
   "execution_count": 4,
   "id": "502878e3",
   "metadata": {
    "scrolled": true
   },
   "outputs": [
    {
     "ename": "ModuleNotFoundError",
     "evalue": "No module named 'spb'",
     "output_type": "error",
     "traceback": [
      "\u001b[0;31m---------------------------------------------------------------------------\u001b[0m",
      "\u001b[0;31mModuleNotFoundError\u001b[0m                       Traceback (most recent call last)",
      "Cell \u001b[0;32mIn[4], line 1\u001b[0m\n\u001b[0;32m----> 1\u001b[0m \u001b[38;5;28;01mfrom\u001b[39;00m \u001b[38;5;21;01mspb\u001b[39;00m \u001b[38;5;28;01mimport\u001b[39;00m \u001b[38;5;241m*\u001b[39m\n",
      "\u001b[0;31mModuleNotFoundError\u001b[0m: No module named 'spb'"
     ]
    }
   ],
   "source": [
    "from spb import *"
   ]
  },
  {
   "cell_type": "code",
   "execution_count": 3,
   "id": "0c1f91d1-78fc-4d58-819f-5a6e82d0f5c0",
   "metadata": {
    "scrolled": true
   },
   "outputs": [
    {
     "name": "stdout",
     "output_type": "stream",
     "text": [
      "Error processing line 1 of /home/brennan/anaconda3/lib/python3.11/site-packages/distutils-precedence.pth:\n",
      "\n",
      "  Traceback (most recent call last):\n",
      "    File \"<frozen site>\", line 186, in addpackage\n",
      "    File \"<string>\", line 1, in <module>\n",
      "  ModuleNotFoundError: No module named '_distutils_hack'\n",
      "\n",
      "Remainder of file ignored\n",
      "Requirement already satisfied: sympy_plot_backends[all] in /home/brennan/anaconda3/lib/python3.11/site-packages (3.0.0)\n",
      "Requirement already satisfied: packaging in /home/brennan/anaconda3/lib/python3.11/site-packages (from sympy_plot_backends[all]) (23.1)\n",
      "Requirement already satisfied: appdirs>=1.4.4 in /home/brennan/anaconda3/lib/python3.11/site-packages (from sympy_plot_backends[all]) (1.4.4)\n",
      "Requirement already satisfied: numpy>=1.21.1 in /home/brennan/anaconda3/lib/python3.11/site-packages (from sympy_plot_backends[all]) (1.24.3)\n",
      "Requirement already satisfied: sympy>=1.10.1 in /home/brennan/anaconda3/lib/python3.11/site-packages (from sympy_plot_backends[all]) (1.11.1)\n",
      "Requirement already satisfied: matplotlib>3.4.2 in /home/brennan/anaconda3/lib/python3.11/site-packages (from sympy_plot_backends[all]) (3.7.2)\n",
      "Requirement already satisfied: mergedeep>=1.3.4 in /home/brennan/anaconda3/lib/python3.11/site-packages (from sympy_plot_backends[all]) (1.3.4)\n",
      "Requirement already satisfied: scipy>=1.7.1 in /home/brennan/anaconda3/lib/python3.11/site-packages (from sympy_plot_backends[all]) (1.11.1)\n",
      "Collecting adaptive>=0.13.1 (from sympy_plot_backends[all])\n",
      "  Obtaining dependency information for adaptive>=0.13.1 from https://files.pythonhosted.org/packages/20/aa/f69b0dd1252346c7ffddd7603fa4d1c25c3f771852de9d9a95421c4e0eb2/adaptive-1.1.0-py3-none-any.whl.metadata\n",
      "  Downloading adaptive-1.1.0-py3-none-any.whl.metadata (12 kB)\n",
      "Requirement already satisfied: notebook in /home/brennan/anaconda3/lib/python3.11/site-packages (from sympy_plot_backends[all]) (6.5.4)\n",
      "Collecting ipympl>=0.7.0 (from sympy_plot_backends[all])\n",
      "  Downloading ipympl-0.9.3-py2.py3-none-any.whl (511 kB)\n",
      "\u001b[2K     \u001b[38;2;114;156;31m━━━━━━━━━━━━━━━━━━━━━━━━━━━━━━━━━━━━━━━\u001b[0m \u001b[32m511.6/511.6 kB\u001b[0m \u001b[31m4.2 MB/s\u001b[0m eta \u001b[36m0:00:00\u001b[0m[36m0:00:01\u001b[0mm eta \u001b[36m0:00:01\u001b[0m\n",
      "\u001b[?25hRequirement already satisfied: plotly>=4.14.3 in /home/brennan/anaconda3/lib/python3.11/site-packages (from sympy_plot_backends[all]) (5.9.0)\n",
      "Requirement already satisfied: panel>=1.0.0 in /home/brennan/anaconda3/lib/python3.11/site-packages (from sympy_plot_backends[all]) (1.2.3)\n",
      "Collecting ipywidgets-bokeh (from sympy_plot_backends[all])\n",
      "  Obtaining dependency information for ipywidgets-bokeh from https://files.pythonhosted.org/packages/74/5b/c0af1f87181ec879bbbcfc68fd433995247baf004a9d287ab514069491bb/ipywidgets_bokeh-1.5.0-py3-none-any.whl.metadata\n",
      "  Downloading ipywidgets_bokeh-1.5.0-py3-none-any.whl.metadata (1.8 kB)\n",
      "Requirement already satisfied: colorcet in /home/brennan/anaconda3/lib/python3.11/site-packages (from sympy_plot_backends[all]) (3.0.1)\n",
      "Collecting k3d>=2.9.7 (from sympy_plot_backends[all])\n",
      "  Obtaining dependency information for k3d>=2.9.7 from https://files.pythonhosted.org/packages/71/b7/f63b644a223704a0adc3d46507b9146c9df52fb93965629b5b31eb144fdb/k3d-2.16.0-py3-none-any.whl.metadata\n",
      "  Downloading k3d-2.16.0-py3-none-any.whl.metadata (6.8 kB)\n",
      "Collecting vtk (from sympy_plot_backends[all])\n",
      "  Obtaining dependency information for vtk from https://files.pythonhosted.org/packages/00/cf/e827806a34efe69ce286ba842605535c40b45ea338f8315dd0e0986e89a9/vtk-9.3.0-cp311-cp311-manylinux_2_17_x86_64.manylinux2014_x86_64.whl.metadata\n",
      "  Downloading vtk-9.3.0-cp311-cp311-manylinux_2_17_x86_64.manylinux2014_x86_64.whl.metadata (5.2 kB)\n",
      "Collecting sortedcollections>=1.1 (from adaptive>=0.13.1->sympy_plot_backends[all])\n",
      "  Downloading sortedcollections-2.1.0-py3-none-any.whl (9.5 kB)\n",
      "Requirement already satisfied: sortedcontainers>=2.0 in /home/brennan/anaconda3/lib/python3.11/site-packages (from adaptive>=0.13.1->sympy_plot_backends[all]) (2.4.0)\n",
      "Requirement already satisfied: cloudpickle in /home/brennan/anaconda3/lib/python3.11/site-packages (from adaptive>=0.13.1->sympy_plot_backends[all]) (2.2.1)\n",
      "Collecting loky>=2.9 (from adaptive>=0.13.1->sympy_plot_backends[all])\n",
      "  Obtaining dependency information for loky>=2.9 from https://files.pythonhosted.org/packages/2e/4b/d5f8d45c28b193fe5974f95ecfa2bac87e268a543da298bab258ded6ae95/loky-3.4.1-py3-none-any.whl.metadata\n",
      "  Downloading loky-3.4.1-py3-none-any.whl.metadata (6.4 kB)\n",
      "Collecting versioningit (from adaptive>=0.13.1->sympy_plot_backends[all])\n",
      "  Obtaining dependency information for versioningit from https://files.pythonhosted.org/packages/35/71/94096361055c75c20911c720c642ff2e7ba8889c39bb75c1b9558b608b26/versioningit-2.3.0-py3-none-any.whl.metadata\n",
      "  Downloading versioningit-2.3.0-py3-none-any.whl.metadata (9.4 kB)\n",
      "Requirement already satisfied: ipython<9 in /home/brennan/anaconda3/lib/python3.11/site-packages (from ipympl>=0.7.0->sympy_plot_backends[all]) (8.15.0)\n",
      "Requirement already satisfied: ipython-genutils in /home/brennan/anaconda3/lib/python3.11/site-packages (from ipympl>=0.7.0->sympy_plot_backends[all]) (0.2.0)\n",
      "Requirement already satisfied: pillow in /home/brennan/anaconda3/lib/python3.11/site-packages (from ipympl>=0.7.0->sympy_plot_backends[all]) (9.4.0)\n",
      "Requirement already satisfied: traitlets<6 in /home/brennan/anaconda3/lib/python3.11/site-packages (from ipympl>=0.7.0->sympy_plot_backends[all]) (5.7.1)\n",
      "Requirement already satisfied: ipywidgets<9,>=7.6.0 in /home/brennan/anaconda3/lib/python3.11/site-packages (from ipympl>=0.7.0->sympy_plot_backends[all]) (8.0.4)\n",
      "Requirement already satisfied: msgpack in /home/brennan/anaconda3/lib/python3.11/site-packages (from k3d>=2.9.7->sympy_plot_backends[all]) (1.0.3)\n",
      "Collecting traittypes (from k3d>=2.9.7->sympy_plot_backends[all])\n",
      "  Downloading traittypes-0.2.1-py2.py3-none-any.whl (8.6 kB)\n",
      "Requirement already satisfied: contourpy>=1.0.1 in /home/brennan/anaconda3/lib/python3.11/site-packages (from matplotlib>3.4.2->sympy_plot_backends[all]) (1.0.5)\n",
      "Requirement already satisfied: cycler>=0.10 in /home/brennan/anaconda3/lib/python3.11/site-packages (from matplotlib>3.4.2->sympy_plot_backends[all]) (0.11.0)\n",
      "Requirement already satisfied: fonttools>=4.22.0 in /home/brennan/anaconda3/lib/python3.11/site-packages (from matplotlib>3.4.2->sympy_plot_backends[all]) (4.25.0)\n",
      "Requirement already satisfied: kiwisolver>=1.0.1 in /home/brennan/anaconda3/lib/python3.11/site-packages (from matplotlib>3.4.2->sympy_plot_backends[all]) (1.4.4)\n",
      "Requirement already satisfied: pyparsing<3.1,>=2.3.1 in /home/brennan/anaconda3/lib/python3.11/site-packages (from matplotlib>3.4.2->sympy_plot_backends[all]) (3.0.9)\n",
      "Requirement already satisfied: python-dateutil>=2.7 in /home/brennan/anaconda3/lib/python3.11/site-packages (from matplotlib>3.4.2->sympy_plot_backends[all]) (2.8.2)\n",
      "Requirement already satisfied: bokeh<3.3.0,>=3.1.1 in /home/brennan/anaconda3/lib/python3.11/site-packages (from panel>=1.0.0->sympy_plot_backends[all]) (3.2.1)\n",
      "Requirement already satisfied: param>=1.12.0 in /home/brennan/anaconda3/lib/python3.11/site-packages (from panel>=1.0.0->sympy_plot_backends[all]) (1.13.0)\n",
      "Requirement already satisfied: pyviz-comms>=0.7.4 in /home/brennan/anaconda3/lib/python3.11/site-packages (from panel>=1.0.0->sympy_plot_backends[all]) (2.3.0)\n",
      "Requirement already satisfied: xyzservices>=2021.09.1 in /home/brennan/anaconda3/lib/python3.11/site-packages (from panel>=1.0.0->sympy_plot_backends[all]) (2022.9.0)\n",
      "Requirement already satisfied: markdown in /home/brennan/anaconda3/lib/python3.11/site-packages (from panel>=1.0.0->sympy_plot_backends[all]) (3.4.1)\n",
      "Requirement already satisfied: markdown-it-py in /home/brennan/anaconda3/lib/python3.11/site-packages (from panel>=1.0.0->sympy_plot_backends[all]) (2.2.0)\n",
      "Requirement already satisfied: linkify-it-py in /home/brennan/anaconda3/lib/python3.11/site-packages (from panel>=1.0.0->sympy_plot_backends[all]) (2.0.0)\n",
      "Requirement already satisfied: mdit-py-plugins in /home/brennan/anaconda3/lib/python3.11/site-packages (from panel>=1.0.0->sympy_plot_backends[all]) (0.3.0)\n",
      "Requirement already satisfied: requests in /home/brennan/anaconda3/lib/python3.11/site-packages (from panel>=1.0.0->sympy_plot_backends[all]) (2.31.0)\n",
      "Requirement already satisfied: tqdm>=4.48.0 in /home/brennan/anaconda3/lib/python3.11/site-packages (from panel>=1.0.0->sympy_plot_backends[all]) (4.65.0)\n",
      "Requirement already satisfied: bleach in /home/brennan/anaconda3/lib/python3.11/site-packages (from panel>=1.0.0->sympy_plot_backends[all]) (4.1.0)\n",
      "Requirement already satisfied: typing-extensions in /home/brennan/anaconda3/lib/python3.11/site-packages (from panel>=1.0.0->sympy_plot_backends[all]) (4.7.1)\n",
      "Requirement already satisfied: pandas>=1.2 in /home/brennan/anaconda3/lib/python3.11/site-packages (from panel>=1.0.0->sympy_plot_backends[all]) (2.0.3)\n",
      "Requirement already satisfied: tenacity>=6.2.0 in /home/brennan/anaconda3/lib/python3.11/site-packages (from plotly>=4.14.3->sympy_plot_backends[all]) (8.2.2)\n",
      "Requirement already satisfied: mpmath>=0.19 in /home/brennan/anaconda3/lib/python3.11/site-packages (from sympy>=1.10.1->sympy_plot_backends[all]) (1.3.0)\n",
      "Requirement already satisfied: pyct>=0.4.4 in /home/brennan/anaconda3/lib/python3.11/site-packages (from colorcet->sympy_plot_backends[all]) (0.5.0)\n",
      "Requirement already satisfied: ipykernel!=6.18.0,==6.* in /home/brennan/anaconda3/lib/python3.11/site-packages (from ipywidgets-bokeh->sympy_plot_backends[all]) (6.25.0)\n",
      "Requirement already satisfied: Jinja2>=2.9 in /home/brennan/anaconda3/lib/python3.11/site-packages (from bokeh<3.3.0,>=3.1.1->panel>=1.0.0->sympy_plot_backends[all]) (3.1.2)\n",
      "Requirement already satisfied: PyYAML>=3.10 in /home/brennan/anaconda3/lib/python3.11/site-packages (from bokeh<3.3.0,>=3.1.1->panel>=1.0.0->sympy_plot_backends[all]) (6.0)\n",
      "Requirement already satisfied: tornado>=5.1 in /home/brennan/anaconda3/lib/python3.11/site-packages (from bokeh<3.3.0,>=3.1.1->panel>=1.0.0->sympy_plot_backends[all]) (6.3.2)\n",
      "Requirement already satisfied: comm>=0.1.1 in /home/brennan/anaconda3/lib/python3.11/site-packages (from ipykernel!=6.18.0,==6.*->ipywidgets-bokeh->sympy_plot_backends[all]) (0.1.2)\n",
      "Requirement already satisfied: debugpy>=1.6.5 in /home/brennan/anaconda3/lib/python3.11/site-packages (from ipykernel!=6.18.0,==6.*->ipywidgets-bokeh->sympy_plot_backends[all]) (1.6.7)\n",
      "Requirement already satisfied: jupyter-client>=6.1.12 in /home/brennan/anaconda3/lib/python3.11/site-packages (from ipykernel!=6.18.0,==6.*->ipywidgets-bokeh->sympy_plot_backends[all]) (7.4.9)\n",
      "Requirement already satisfied: jupyter-core!=5.0.*,>=4.12 in /home/brennan/anaconda3/lib/python3.11/site-packages (from ipykernel!=6.18.0,==6.*->ipywidgets-bokeh->sympy_plot_backends[all]) (5.3.0)\n",
      "Requirement already satisfied: matplotlib-inline>=0.1 in /home/brennan/anaconda3/lib/python3.11/site-packages (from ipykernel!=6.18.0,==6.*->ipywidgets-bokeh->sympy_plot_backends[all]) (0.1.6)\n",
      "Requirement already satisfied: nest-asyncio in /home/brennan/anaconda3/lib/python3.11/site-packages (from ipykernel!=6.18.0,==6.*->ipywidgets-bokeh->sympy_plot_backends[all]) (1.5.6)\n",
      "Requirement already satisfied: psutil in /home/brennan/anaconda3/lib/python3.11/site-packages (from ipykernel!=6.18.0,==6.*->ipywidgets-bokeh->sympy_plot_backends[all]) (5.9.0)\n",
      "Requirement already satisfied: pyzmq>=20 in /home/brennan/anaconda3/lib/python3.11/site-packages (from ipykernel!=6.18.0,==6.*->ipywidgets-bokeh->sympy_plot_backends[all]) (23.2.0)\n",
      "Requirement already satisfied: widgetsnbextension~=4.0 in /home/brennan/anaconda3/lib/python3.11/site-packages (from ipywidgets<9,>=7.6.0->ipympl>=0.7.0->sympy_plot_backends[all]) (4.0.5)\n",
      "Requirement already satisfied: jupyterlab-widgets~=3.0 in /home/brennan/anaconda3/lib/python3.11/site-packages (from ipywidgets<9,>=7.6.0->ipympl>=0.7.0->sympy_plot_backends[all]) (3.0.5)\n",
      "Requirement already satisfied: argon2-cffi in /home/brennan/anaconda3/lib/python3.11/site-packages (from notebook->sympy_plot_backends[all]) (21.3.0)\n",
      "Requirement already satisfied: nbformat in /home/brennan/anaconda3/lib/python3.11/site-packages (from notebook->sympy_plot_backends[all]) (5.9.2)\n",
      "Requirement already satisfied: nbconvert>=5 in /home/brennan/anaconda3/lib/python3.11/site-packages (from notebook->sympy_plot_backends[all]) (6.5.4)\n",
      "Requirement already satisfied: Send2Trash>=1.8.0 in /home/brennan/anaconda3/lib/python3.11/site-packages (from notebook->sympy_plot_backends[all]) (1.8.0)\n",
      "Requirement already satisfied: terminado>=0.8.3 in /home/brennan/anaconda3/lib/python3.11/site-packages (from notebook->sympy_plot_backends[all]) (0.17.1)\n",
      "Requirement already satisfied: prometheus-client in /home/brennan/anaconda3/lib/python3.11/site-packages (from notebook->sympy_plot_backends[all]) (0.14.1)\n",
      "Requirement already satisfied: nbclassic>=0.4.7 in /home/brennan/anaconda3/lib/python3.11/site-packages (from notebook->sympy_plot_backends[all]) (0.5.5)\n",
      "Requirement already satisfied: backcall in /home/brennan/anaconda3/lib/python3.11/site-packages (from ipython<9->ipympl>=0.7.0->sympy_plot_backends[all]) (0.2.0)\n",
      "Requirement already satisfied: decorator in /home/brennan/anaconda3/lib/python3.11/site-packages (from ipython<9->ipympl>=0.7.0->sympy_plot_backends[all]) (5.1.1)\n",
      "Requirement already satisfied: jedi>=0.16 in /home/brennan/anaconda3/lib/python3.11/site-packages (from ipython<9->ipympl>=0.7.0->sympy_plot_backends[all]) (0.18.1)\n",
      "Requirement already satisfied: pickleshare in /home/brennan/anaconda3/lib/python3.11/site-packages (from ipython<9->ipympl>=0.7.0->sympy_plot_backends[all]) (0.7.5)\n",
      "Requirement already satisfied: prompt-toolkit!=3.0.37,<3.1.0,>=3.0.30 in /home/brennan/anaconda3/lib/python3.11/site-packages (from ipython<9->ipympl>=0.7.0->sympy_plot_backends[all]) (3.0.36)\n",
      "Requirement already satisfied: pygments>=2.4.0 in /home/brennan/anaconda3/lib/python3.11/site-packages (from ipython<9->ipympl>=0.7.0->sympy_plot_backends[all]) (2.15.1)\n",
      "Requirement already satisfied: stack-data in /home/brennan/anaconda3/lib/python3.11/site-packages (from ipython<9->ipympl>=0.7.0->sympy_plot_backends[all]) (0.2.0)\n",
      "Requirement already satisfied: pexpect>4.3 in /home/brennan/anaconda3/lib/python3.11/site-packages (from ipython<9->ipympl>=0.7.0->sympy_plot_backends[all]) (4.8.0)\n",
      "Requirement already satisfied: MarkupSafe>=2.0 in /home/brennan/anaconda3/lib/python3.11/site-packages (from Jinja2>=2.9->bokeh<3.3.0,>=3.1.1->panel>=1.0.0->sympy_plot_backends[all]) (2.1.1)\n",
      "Requirement already satisfied: entrypoints in /home/brennan/anaconda3/lib/python3.11/site-packages (from jupyter-client>=6.1.12->ipykernel!=6.18.0,==6.*->ipywidgets-bokeh->sympy_plot_backends[all]) (0.4)\n",
      "Requirement already satisfied: platformdirs>=2.5 in /home/brennan/anaconda3/lib/python3.11/site-packages (from jupyter-core!=5.0.*,>=4.12->ipykernel!=6.18.0,==6.*->ipywidgets-bokeh->sympy_plot_backends[all]) (3.10.0)\n",
      "Requirement already satisfied: jupyter-server>=1.8 in /home/brennan/anaconda3/lib/python3.11/site-packages (from nbclassic>=0.4.7->notebook->sympy_plot_backends[all]) (1.23.4)\n",
      "Requirement already satisfied: notebook-shim>=0.1.0 in /home/brennan/anaconda3/lib/python3.11/site-packages (from nbclassic>=0.4.7->notebook->sympy_plot_backends[all]) (0.2.2)\n",
      "Requirement already satisfied: lxml in /home/brennan/anaconda3/lib/python3.11/site-packages (from nbconvert>=5->notebook->sympy_plot_backends[all]) (4.9.3)\n",
      "Requirement already satisfied: beautifulsoup4 in /home/brennan/anaconda3/lib/python3.11/site-packages (from nbconvert>=5->notebook->sympy_plot_backends[all]) (4.12.2)\n",
      "Requirement already satisfied: defusedxml in /home/brennan/anaconda3/lib/python3.11/site-packages (from nbconvert>=5->notebook->sympy_plot_backends[all]) (0.7.1)\n",
      "Requirement already satisfied: jupyterlab-pygments in /home/brennan/anaconda3/lib/python3.11/site-packages (from nbconvert>=5->notebook->sympy_plot_backends[all]) (0.1.2)\n",
      "Requirement already satisfied: mistune<2,>=0.8.1 in /home/brennan/anaconda3/lib/python3.11/site-packages (from nbconvert>=5->notebook->sympy_plot_backends[all]) (0.8.4)\n",
      "Requirement already satisfied: nbclient>=0.5.0 in /home/brennan/anaconda3/lib/python3.11/site-packages (from nbconvert>=5->notebook->sympy_plot_backends[all]) (0.5.13)\n",
      "Requirement already satisfied: pandocfilters>=1.4.1 in /home/brennan/anaconda3/lib/python3.11/site-packages (from nbconvert>=5->notebook->sympy_plot_backends[all]) (1.5.0)\n",
      "Requirement already satisfied: tinycss2 in /home/brennan/anaconda3/lib/python3.11/site-packages (from nbconvert>=5->notebook->sympy_plot_backends[all]) (1.2.1)\n",
      "Requirement already satisfied: fastjsonschema in /home/brennan/anaconda3/lib/python3.11/site-packages (from nbformat->notebook->sympy_plot_backends[all]) (2.16.2)\n",
      "Requirement already satisfied: jsonschema>=2.6 in /home/brennan/anaconda3/lib/python3.11/site-packages (from nbformat->notebook->sympy_plot_backends[all]) (4.17.3)\n",
      "Requirement already satisfied: pytz>=2020.1 in /home/brennan/anaconda3/lib/python3.11/site-packages (from pandas>=1.2->panel>=1.0.0->sympy_plot_backends[all]) (2023.3.post1)\n",
      "Requirement already satisfied: tzdata>=2022.1 in /home/brennan/anaconda3/lib/python3.11/site-packages (from pandas>=1.2->panel>=1.0.0->sympy_plot_backends[all]) (2023.3)\n",
      "Requirement already satisfied: six>=1.5 in /home/brennan/anaconda3/lib/python3.11/site-packages (from python-dateutil>=2.7->matplotlib>3.4.2->sympy_plot_backends[all]) (1.16.0)\n",
      "Requirement already satisfied: ptyprocess in /home/brennan/anaconda3/lib/python3.11/site-packages (from terminado>=0.8.3->notebook->sympy_plot_backends[all]) (0.7.0)\n",
      "Requirement already satisfied: argon2-cffi-bindings in /home/brennan/anaconda3/lib/python3.11/site-packages (from argon2-cffi->notebook->sympy_plot_backends[all]) (21.2.0)\n",
      "Requirement already satisfied: webencodings in /home/brennan/anaconda3/lib/python3.11/site-packages (from bleach->panel>=1.0.0->sympy_plot_backends[all]) (0.5.1)\n",
      "Requirement already satisfied: uc-micro-py in /home/brennan/anaconda3/lib/python3.11/site-packages (from linkify-it-py->panel>=1.0.0->sympy_plot_backends[all]) (1.0.1)\n",
      "Requirement already satisfied: mdurl~=0.1 in /home/brennan/anaconda3/lib/python3.11/site-packages (from markdown-it-py->panel>=1.0.0->sympy_plot_backends[all]) (0.1.0)\n",
      "Requirement already satisfied: charset-normalizer<4,>=2 in /home/brennan/anaconda3/lib/python3.11/site-packages (from requests->panel>=1.0.0->sympy_plot_backends[all]) (2.0.4)\n",
      "Requirement already satisfied: idna<4,>=2.5 in /home/brennan/anaconda3/lib/python3.11/site-packages (from requests->panel>=1.0.0->sympy_plot_backends[all]) (3.4)\n",
      "Requirement already satisfied: urllib3<3,>=1.21.1 in /home/brennan/anaconda3/lib/python3.11/site-packages (from requests->panel>=1.0.0->sympy_plot_backends[all]) (1.26.16)\n",
      "Requirement already satisfied: certifi>=2017.4.17 in /home/brennan/anaconda3/lib/python3.11/site-packages (from requests->panel>=1.0.0->sympy_plot_backends[all]) (2023.7.22)\n",
      "Requirement already satisfied: parso<0.9.0,>=0.8.0 in /home/brennan/anaconda3/lib/python3.11/site-packages (from jedi>=0.16->ipython<9->ipympl>=0.7.0->sympy_plot_backends[all]) (0.8.3)\n",
      "Requirement already satisfied: attrs>=17.4.0 in /home/brennan/anaconda3/lib/python3.11/site-packages (from jsonschema>=2.6->nbformat->notebook->sympy_plot_backends[all]) (22.1.0)\n",
      "Requirement already satisfied: pyrsistent!=0.17.0,!=0.17.1,!=0.17.2,>=0.14.0 in /home/brennan/anaconda3/lib/python3.11/site-packages (from jsonschema>=2.6->nbformat->notebook->sympy_plot_backends[all]) (0.18.0)\n",
      "Requirement already satisfied: anyio<4,>=3.1.0 in /home/brennan/anaconda3/lib/python3.11/site-packages (from jupyter-server>=1.8->nbclassic>=0.4.7->notebook->sympy_plot_backends[all]) (3.5.0)\n",
      "Requirement already satisfied: websocket-client in /home/brennan/anaconda3/lib/python3.11/site-packages (from jupyter-server>=1.8->nbclassic>=0.4.7->notebook->sympy_plot_backends[all]) (0.58.0)\n",
      "Requirement already satisfied: wcwidth in /home/brennan/anaconda3/lib/python3.11/site-packages (from prompt-toolkit!=3.0.37,<3.1.0,>=3.0.30->ipython<9->ipympl>=0.7.0->sympy_plot_backends[all]) (0.2.5)\n",
      "Requirement already satisfied: cffi>=1.0.1 in /home/brennan/anaconda3/lib/python3.11/site-packages (from argon2-cffi-bindings->argon2-cffi->notebook->sympy_plot_backends[all]) (1.15.1)\n",
      "Requirement already satisfied: soupsieve>1.2 in /home/brennan/anaconda3/lib/python3.11/site-packages (from beautifulsoup4->nbconvert>=5->notebook->sympy_plot_backends[all]) (2.4)\n",
      "Requirement already satisfied: executing in /home/brennan/anaconda3/lib/python3.11/site-packages (from stack-data->ipython<9->ipympl>=0.7.0->sympy_plot_backends[all]) (0.8.3)\n",
      "Requirement already satisfied: asttokens in /home/brennan/anaconda3/lib/python3.11/site-packages (from stack-data->ipython<9->ipympl>=0.7.0->sympy_plot_backends[all]) (2.0.5)\n",
      "Requirement already satisfied: pure-eval in /home/brennan/anaconda3/lib/python3.11/site-packages (from stack-data->ipython<9->ipympl>=0.7.0->sympy_plot_backends[all]) (0.2.2)\n",
      "Requirement already satisfied: sniffio>=1.1 in /home/brennan/anaconda3/lib/python3.11/site-packages (from anyio<4,>=3.1.0->jupyter-server>=1.8->nbclassic>=0.4.7->notebook->sympy_plot_backends[all]) (1.2.0)\n",
      "Requirement already satisfied: pycparser in /home/brennan/anaconda3/lib/python3.11/site-packages (from cffi>=1.0.1->argon2-cffi-bindings->argon2-cffi->notebook->sympy_plot_backends[all]) (2.21)\n",
      "Downloading adaptive-1.1.0-py3-none-any.whl (128 kB)\n",
      "\u001b[2K   \u001b[38;2;114;156;31m━━━━━━━━━━━━━━━━━━━━━━━━━━━━━━━━━━━━━━━━\u001b[0m \u001b[32m128.2/128.2 kB\u001b[0m \u001b[31m10.6 MB/s\u001b[0m eta \u001b[36m0:00:00\u001b[0m\n",
      "\u001b[?25hDownloading k3d-2.16.0-py3-none-any.whl (23.1 MB)\n",
      "\u001b[2K   \u001b[38;2;114;156;31m━━━━━━━━━━━━━━━━━━━━━━━━━━━━━━━━━━━━━━━━\u001b[0m \u001b[32m23.1/23.1 MB\u001b[0m \u001b[31m18.3 MB/s\u001b[0m eta \u001b[36m0:00:00\u001b[0mm eta \u001b[36m0:00:01\u001b[0m0:01\u001b[0m:01\u001b[0m\n",
      "\u001b[?25hDownloading ipywidgets_bokeh-1.5.0-py3-none-any.whl (1.0 MB)\n",
      "\u001b[2K   \u001b[38;2;114;156;31m━━━━━━━━━━━━━━━━━━━━━━━━━━━━━━━━━━━━━━━━\u001b[0m \u001b[32m1.0/1.0 MB\u001b[0m \u001b[31m20.1 MB/s\u001b[0m eta \u001b[36m0:00:00\u001b[0m31m26.5 MB/s\u001b[0m eta \u001b[36m0:00:01\u001b[0m\n",
      "\u001b[?25hDownloading vtk-9.3.0-cp311-cp311-manylinux_2_17_x86_64.manylinux2014_x86_64.whl (92.0 MB)\n",
      "\u001b[2K   \u001b[38;2;114;156;31m━━━━━━━━━━━━━━━━━━━━━━━━━━━━━━━━━━━━━━━━\u001b[0m \u001b[32m92.0/92.0 MB\u001b[0m \u001b[31m3.5 MB/s\u001b[0m eta \u001b[36m0:00:00\u001b[0mm eta \u001b[36m0:00:01\u001b[0m[36m0:00:01\u001b[0m\n",
      "\u001b[?25hDownloading loky-3.4.1-py3-none-any.whl (54 kB)\n",
      "\u001b[2K   \u001b[38;2;114;156;31m━━━━━━━━━━━━━━━━━━━━━━━━━━━━━━━━━━━━━━━━\u001b[0m \u001b[32m54.6/54.6 kB\u001b[0m \u001b[31m5.6 MB/s\u001b[0m eta \u001b[36m0:00:00\u001b[0m\n",
      "\u001b[?25hDownloading versioningit-2.3.0-py3-none-any.whl (35 kB)\n",
      "Installing collected packages: versioningit, traittypes, sortedcollections, loky, adaptive, vtk, k3d, ipywidgets-bokeh, ipympl\n",
      "Successfully installed adaptive-1.1.0 ipympl-0.9.3 ipywidgets-bokeh-1.5.0 k3d-2.16.0 loky-3.4.1 sortedcollections-2.1.0 traittypes-0.2.1 versioningit-2.3.0 vtk-9.3.0\n"
     ]
    }
   ],
   "source": [
    "!pip install sympy_plot_backends[all]"
   ]
  },
  {
   "cell_type": "code",
   "execution_count": 5,
   "id": "b32eba50-91f5-4a88-bbde-4287a188b37f",
   "metadata": {
    "scrolled": true
   },
   "outputs": [
    {
     "ename": "ModuleNotFoundError",
     "evalue": "No module named 'spb'",
     "output_type": "error",
     "traceback": [
      "\u001b[0;31m---------------------------------------------------------------------------\u001b[0m",
      "\u001b[0;31mModuleNotFoundError\u001b[0m                       Traceback (most recent call last)",
      "Cell \u001b[0;32mIn[5], line 1\u001b[0m\n\u001b[0;32m----> 1\u001b[0m \u001b[38;5;28;01mfrom\u001b[39;00m \u001b[38;5;21;01mspb\u001b[39;00m \u001b[38;5;28;01mimport\u001b[39;00m \u001b[38;5;241m*\u001b[39m\n",
      "\u001b[0;31mModuleNotFoundError\u001b[0m: No module named 'spb'"
     ]
    }
   ],
   "source": [
    "from spb import *"
   ]
  },
  {
   "cell_type": "code",
   "execution_count": 6,
   "id": "adb74de8",
   "metadata": {},
   "outputs": [
    {
     "data": {
      "image/png": "[encoded data removed]",
      "text/plain": [
       "<Figure size 432x288 with 1 Axes>"
      ]
     },
     "metadata": {
      "needs_background": "light"
     },
     "output_type": "display_data"
    },
    {
     "data": {
      "text/plain": [
       "<spb.backends.matplotlib.matplotlib.MatplotlibBackend at 0x12922bc8190>"
      ]
     },
     "execution_count": 6,
     "metadata": {},
     "output_type": "execute_result"
    }
   ],
   "source": [
    "plot_piecewise(f, xlim=(-5,5))"
   ]
  }
 ],
 "metadata": {
  "kernelspec": {
   "display_name": "Python 3 (ipykernel)",
   "language": "python",
   "name": "python3"
  },
  "language_info": {
   "codemirror_mode": {
    "name": "ipython",
    "version": 3
   },
   "file_extension": ".py",
   "mimetype": "text/x-python",
   "name": "python",
   "nbconvert_exporter": "python",
   "pygments_lexer": "ipython3",
   "version": "3.10.12"
  }
 },
 "nbformat": 4,
 "nbformat_minor": 5
}
